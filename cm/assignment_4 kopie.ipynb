{
 "cells": [
  {
   "cell_type": "markdown",
   "metadata": {},
   "source": [
    "# Q-Learning pt.2  Frozen Lake"
   ]
  },
  {
   "cell_type": "markdown",
   "metadata": {},
   "source": [
    "## Winter is coming:\n",
    "\n",
    "![](lake.png) \n",
    "Winter is here. You and your friends were tossing around a frisbee at the park when you made a wild throw that left the frisbee out in the middle of the lake. The water is mostly frozen, but there are a few holes where the ice has melted. If you step into one of those holes, you'll fall into the freezing water. At this time, there's an international frisbee shortage, so it's absolutely imperative that you navigate across the lake and retrieve the disc. However, because you don't want to get wet you send out your robot to retrieve the frisbee. The surface is described using a grid like the following:\n",
    "    \n",
    "        State:        State #:\n",
    "        S F F F     0  1  2  3\n",
    "        F H F H     4  5  6  7 \n",
    "        F F F H     8  9  10 11 \n",
    "        H F F G     12 13 14 15 \n",
    "        \n",
    "        \n",
    "    S : starting point, safe\n",
    "    F : frozen surface, safe\n",
    "    H : hole, fall to your doom (instant death)\n",
    "    G : goal, where the frisbee is located\n",
    "    \n",
    "The episode ends when you reach the goal or fall in a hole.\n",
    "    \n",
    "You receive a reward of 1 if you reach the goal, and zero otherwise.\n",
    "\n"
   ]
  },
  {
   "cell_type": "code",
   "execution_count": 1,
   "metadata": {
    "scrolled": true
   },
   "outputs": [],
   "source": [
    "# The Frozenlake is a standard practive environtment from the Open AI Gym. \n",
    "# Gym is a toolkit for developing and comparing reinforcement learning algorithms. \n",
    "# It supports teaching agents everything from walking to playing games like Pong or Pinball.\n",
    "# If you do not have this installed yet (shame, shame): https://gym.openai.com/docs/#installation \n",
    "\n",
    "import gym\n",
    "import math\n",
    "import numpy as np\n",
    "import random\n",
    "\n",
    "%matplotlib inline\n",
    "import matplotlib.pyplot as plt\n"
   ]
  },
  {
   "cell_type": "markdown",
   "metadata": {},
   "source": [
    "### loading the environment"
   ]
  },
  {
   "cell_type": "code",
   "execution_count": 2,
   "metadata": {},
   "outputs": [],
   "source": [
    "# Let's load the Frozen lake environment\n",
    "# Slippery means that sometimes the robot will slip on the ice and move in a random direction \n",
    "env_4x4 = gym.make('FrozenLake-v0',map_name=\"4x4\",is_slippery=False)"
   ]
  },
  {
   "cell_type": "markdown",
   "metadata": {},
   "source": [
    "### check the environment"
   ]
  },
  {
   "cell_type": "code",
   "execution_count": 3,
   "metadata": {},
   "outputs": [
    {
     "name": "stdout",
     "output_type": "stream",
     "text": [
      "\n",
      "\u001b[41mS\u001b[0mFFF\n",
      "FHFH\n",
      "FFFH\n",
      "HFFG\n"
     ]
    }
   ],
   "source": [
    "# This function shows your current location and the environment\n",
    "env_4x4.render()"
   ]
  },
  {
   "cell_type": "markdown",
   "metadata": {},
   "source": [
    "### Implement Q-Table learning algorithm\n",
    "\n",
    "Ontwikkel nu een Q learning algoritme dat kan leren hoe het beste van start $S$ naar het doel $G$ te lopen, en dus de wakken de vermijden.\n",
    "\n",
    "Details over Q-learning zijn terug te vinden in de college slides en het hoofdstuk van Gureckis & Love [**computational reinforcement learning**](http://bradlove.org/papers/GureckisLovePress.pdf) en voor meer verdieping in het online boek van [**Sutton & Barto**](http://incompleteideas.net/book/bookdraft2018jan1.pdf) en dan met name hoofdstuk 6.\n",
    "\n",
    "\n",
    "**Let op:** In dit experiment zijn meerdere states. Dit heeft als gevolg dat bij het leren rekening gehouden moet worden met de actie in de volgende state gemaakt wordt. We gaan hier dan vanuit dat de robot altijd de actie kiest met de hoogste Q-value. De prediction error wordt dus:\n",
    "\n",
    "$$\\delta = r_{t+1} + \\gamma\\ max_a\\ Q(s_{t+1} , a) − Q(s_t , a_t)$$\n",
    "\n",
    "Waarbij de Q-value update nog steeds is gedefinieerd als:\n",
    "\n",
    "$$Q(s_t, a_t) = Q(s_t, a_t) + \\alpha \\delta$$\n",
    "\n",
    "In het begin van het experiment heeft de robot geen enkele kennis van de wereld en geen enkele verwachtingen voor van het krijgen van beloningen. Voor elke actie op elk vlak van het grid geld dus:\n",
    "\n",
    "$Q(s, LEFT)=Q(s, RIGHT)=Q(s, UP)=Q(s, DOWN)=0$\n",
    "\n",
    "\n",
    "# 1.a (10 punten)\n",
    "\n",
    "Schrijf een functie `q_learn` die als input env (*Open AI Gym* environment), alpha ($\\alpha$), epsilon ($\\epsilon$), gamma ($\\gamma$) en episodes accepteert. \n",
    "\n",
    "De output van deze functie moet een table zijn met $Q$ waarden zijn voor elke state en elke actie. Er zijn 16 states en 4 acties dus in totaal 64 combinaties. Voor de diagnose van het algoritme is het ook belangrijk een lijst met totale verdiende beloningen, maar ook het hoeveelheid stappen tot het doel (per episode) als output te hebben. \n",
    "\n",
    "We gaan er nu van uit dat de robot de $\\epsilon$-greedy keuze regel toepast, waarbij $\\epsilon$ afneemt met tijd. \n",
    "\n",
    "Hier alvast wat code om je op weg te helpen:\n",
    "\n",
    "```python\n",
    "def q_learn(env, alpha=.8, gamma=.95, epsilon=.1, num_episodes=2000):\n",
    "\n",
    "    # Initialize Q table with all zeros\n",
    "    states = env.observation_space.n\n",
    "    actions = env.action_space.n\n",
    "    Q = np.zeros([states,actions])\n",
    "\n",
    "    # Create lists to contain total rewards and steps per episode\n",
    "    jList = [] #step list\n",
    "    rList = [] #reward list\n",
    "\n",
    "    # Start learning:\n",
    "    for i in range(num_episodes):\n",
    "        # Reset environment and get first new observation\n",
    "        s = env.reset()\n",
    "        # Total rewards this episode start at 0\n",
    "        rAll = 0\n",
    "        # You are still not done: (d is specific to frozen lake) \n",
    "        d = False\n",
    "        # Run counter reset:\n",
    "        j = 0\n",
    "    \n",
    "        # The Q-Table learning algorithm, each episode consists of several learning runs (loops)\n",
    "        while j < 100:\n",
    "            j+=1\n",
    "        \n",
    "            # Choose an action by greedily picking from Q table\n",
    "            # NOTE (a)ctions in FrozenLake are 0:left,1:down,2:right,3:up  (this is hardcoded in env.)\n",
    "            # add a tiny tiny bit of noise to the Q table to arbitrate between draws (order of .0001)\n",
    "            # implement the e-greedy rule\n",
    "            a = # TODO\n",
    "            \n",
    "                 \n",
    "            # Get new state and reward from environment, this can/must be done with env.step from the Gym\n",
    "            # where s1 is the new state, r is the reward, and d means the end (hole or frisbee)\n",
    "            s1,r,d,_ = env.step(a)\n",
    "            \n",
    "            # Update Q-Table with new knowledge (assume you pick a with highest value in that state)\n",
    "            Q[s,a] = # TODO\n",
    "            \n",
    "            \n",
    "            # Update total rewards\n",
    "            rAll += r\n",
    "            \n",
    "            # If frisbee or hole (d) then end run\n",
    "            # TODO\n",
    "            \n",
    "            \n",
    "            # Update state\n",
    "            s = s1\n",
    "        \n",
    "   \n",
    "        # Update e, reducing exploration over episodes\n",
    "        epsilon = epsilon*.999\n",
    "        jList.append(j)\n",
    "        rList.append(rAll)\n",
    "    \n",
    "    return (rList, jList, Q)  \n",
    "```\n",
    "\n",
    "de ingevoerde hyperparameters werken goed maar voel je vrij om hier mee te experimenteren. \n"
   ]
  },
  {
   "cell_type": "code",
   "execution_count": 68,
   "metadata": {},
   "outputs": [],
   "source": [
    "def q_learn(env, alpha=.8, gamma=.95, epsilon=.1, num_episodes=2000):\n",
    "\n",
    "    # Initialize Q table with all zeros\n",
    "    states = env.observation_space.n\n",
    "    actions = env.action_space.n\n",
    "    Q = np.zeros([states,actions])\n",
    "\n",
    "    # Create lists to contain total rewards and steps per episode\n",
    "    jList = [] #step list\n",
    "    rList = [] #reward list\n",
    "\n",
    "    # Start learning:\n",
    "    for i in range(num_episodes):\n",
    "        # Reset environment and get first new observation\n",
    "        s = env.reset()\n",
    "        \n",
    "        # Total rewards this episode start at 0\n",
    "        rAll = 0\n",
    "        # You are still not done: (d is specific to frozen lake) \n",
    "        d = False\n",
    "        # Run counter reset:\n",
    "        j = 0\n",
    "    \n",
    "        # The Q-Table learning algorithm, each episode consists of several learning runs (loops)\n",
    "        while j < 100:\n",
    "            j+=1\n",
    "        \n",
    "            # Choose an action by greedily picking from Q table\n",
    "            # NOTE (a)ctions in FrozenLake are 0:left,1:down,2:right,3:up  (this is hardcoded in env.)\n",
    "            # add a tiny tiny bit of noise to the Q table to arbitrate between draws (order of .0001)\n",
    "            # implement the e-greedy rule\n",
    "            \n",
    "            #Noise toevoegen en wat als er twee dezelfde max Q_values zijn?\n",
    "            choice = random.uniform(0, 1)\n",
    "            if choice < epsilon:\n",
    "                a = random.randrange(0,4) \n",
    "            else:\n",
    "                row = Q[s]\n",
    "                a = np.where(row == np.amax(row))\n",
    "                a = np.random.choice(np.reshape(a, len(a[0])))\n",
    "                #a = np.argmax(row)\n",
    "                \n",
    "#                 winner = np.argwhere(row == np.amax(row))\n",
    "#                 winner = np.transpose(winner)\n",
    "#                 flat_list = [item for sublist in winner for item in sublist]\n",
    "#                 a = random.randrange(len(flat_list) - 1)\n",
    "            \n",
    "                 \n",
    "            # Get new state and reward from environment, this can/must be done with env.step from the Gym\n",
    "            # where s1 is the new state, r is the reward, and d means the end (hole or frisbee)\n",
    "            s1,r,d,_ = env.step(a)\n",
    "\n",
    "            # Update Q-Table with new knowledge (assume you pick a with highest value in that state)\n",
    "            row_2 = Q[s1]\n",
    "            max_s1 = np.where(row_2 == np.amax(row_2))\n",
    "            max_s1 = np.random.choice(np.reshape(max_s1, len(max_s1[0])))\n",
    "\n",
    "            delta = r + gamma*(Q[s1][max_s1]) - Q[s][a]\n",
    "            Q[s][a] = Q[s][a] + alpha*delta\n",
    "            \n",
    "            # Update total rewards\n",
    "            rAll += r\n",
    "            \n",
    "            # If frisbee or hole (d) then end run\n",
    "            if d:\n",
    "                break\n",
    "                \n",
    "            \n",
    "            # Update state\n",
    "            s = s1\n",
    "        \n",
    "   \n",
    "        # Update e, reducing exploration over episodes\n",
    "        epsilon = epsilon*.999\n",
    "        jList.append(j)\n",
    "        rList.append(rAll)\n",
    "    \n",
    "    return (rList, jList, Q)  \n",
    "\n",
    "rlist, jlist, Q = q_learn(env_4x4, alpha=.8, gamma=.95, epsilon=.1, num_episodes=2000)"
   ]
  },
  {
   "cell_type": "markdown",
   "metadata": {},
   "source": [
    "\n",
    "# 1.b   (10 punten) \n",
    "\n",
    "Laat me behulp van deze functie de robot 1000 episodes leren over deze wereld (1 leer episode bestaat dus uit 100 trials). Bereken de gemiddelde score over alle episodes. (heel soms komt dit model niet op de oplossing run het dan nog eens). \n",
    "\n",
    "Plot ook in bins van 10 trials (dus gemiddelde beloning per bin van 10 trials), de verandering in beloningen over tijd. Waar ligt het omslag punt? \n",
    "\n",
    "Plot ook in bins van 10 trails, de hoeveelheid stappen er gemaakt zijn. Hoe kort is de korste route tot succes waar het model op uitkomt? Hoe verhoud zich dit tot de werklijke korste route?"
   ]
  },
  {
   "cell_type": "code",
   "execution_count": 84,
   "metadata": {},
   "outputs": [],
   "source": [
    "rlist, jlist, Q = q_learn(env_4x4, alpha=.8, gamma=.95, epsilon=.1, num_episodes=1000)"
   ]
  },
  {
   "cell_type": "markdown",
   "metadata": {},
   "source": [
    "> De gemiddelde reward score over 1000 episodes is 0.668.\n",
    "\n",
    "> De gemiddelde stappen score over 1000 episodes is 6.56."
   ]
  },
  {
   "cell_type": "code",
   "execution_count": 87,
   "metadata": {},
   "outputs": [
    {
     "data": {
      "image/png": "[encoded data removed]",
      "text/plain": [
       "<matplotlib.figure.Figure at 0x1147a2278>"
      ]
     },
     "metadata": {},
     "output_type": "display_data"
    }
   ],
   "source": [
    "bins = []\n",
    "bins = [np.mean(bin) for bin in np.array_split(rlist, 10)]\n",
    "x = np.linspace(0, 100, len(bins))\n",
    "plt.plot(x, bins)\n",
    "plt.title('Reward list over time')\n",
    "plt.show()"
   ]
  },
  {
   "cell_type": "markdown",
   "metadata": {},
   "source": [
    "> Het omslagpunt ligt bij 20 trials. Na 20 trials heeft de robot geleerd hoe hij naar de frisbee moet komen."
   ]
  },
  {
   "cell_type": "code",
   "execution_count": 88,
   "metadata": {},
   "outputs": [
    {
     "data": {
      "image/png": "[encoded data removed]",
      "text/plain": [
       "<matplotlib.figure.Figure at 0x1148a5898>"
      ]
     },
     "metadata": {},
     "output_type": "display_data"
    }
   ],
   "source": [
    "bins = []\n",
    "bins = [np.mean(bin) for bin in np.array_split(jlist, 10)]\n",
    "x = np.linspace(0, 100, len(bins))\n",
    "plt.plot(x, bins)\n",
    "plt.title('Step list over time')\n",
    "plt.show()"
   ]
  },
  {
   "cell_type": "markdown",
   "metadata": {},
   "source": [
    ">De kortste route tot succes uit de grafiek af te lezen is 6.1 stappen. Dit werkelijke kortste route is 6 stappen. \n",
    "Het aantal stappen van het model ligt dus net iets hoger. Dit komt omdat het een gemiddelde is en de robot ook nog af en toe de frisbee niet bereikt. "
   ]
  },
  {
   "cell_type": "markdown",
   "metadata": {},
   "source": [
    "# Q tables\n",
    "# 1.c (5 punten)\n",
    "\n",
    "Laten we nu naar de $Q$ tables gaan kijken. We kunnen zo inspecteren welk route de robot zou lopen als deze altijd max$Q$ zou kiezen (dus puur greedy, $epsilon$=0).\n",
    "\n",
    "Gebruik nu de final $Q$ table die `learn_q()` aan het eind geeft. Hierbij is elke kolom de lijst van Q values voor 1 actie in alle 16 states. Dus `output[2][:,0]` geeft je de meest linker kolom en dat zijn de Q values voor actie naar links bewegen. \n",
    "\n",
    "Zorg dat je een lijst krijgt (Qmax) met voor elke state de actie die de hoogste Q value had. Representeer hier elke actie met een getal (0=links, 1=benden, 2=rechts, 3=boven). Plot vervolgens deze lijst in een grid: \n",
    "\n",
    "```python\n",
    "env_4x4.render()\n",
    "print()\n",
    "\n",
    "Qmax=np.asarray(Qmax).reshape((4,4))\n",
    "print(Qmax)\n",
    "\n",
    "plt.matshow(Qmax)\n",
    "plt.show()\n",
    "```\n",
    "\n",
    "Hiervoor gebruiken we [matshow](https://matplotlib.org/api/_as_gen/matplotlib.pyplot.matshow.html), om te zorgen dat de verschillende waarde in de matrix getoond worden met verschillende kleuren. Donkere kleuren zijn hierbij lage waardes en lichte kleuren hogere waardes.\n",
    "\n",
    "Ga nu na hoe de robot looopt, gaat deze links of rechts langs het wak linksboven op de kaart. "
   ]
  },
  {
   "cell_type": "code",
   "execution_count": 100,
   "metadata": {},
   "outputs": [
    {
     "name": "stdout",
     "output_type": "stream",
     "text": [
      "  (Right)\n",
      "SFFF\n",
      "FHF\u001b[41mH\u001b[0m\n",
      "FFFH\n",
      "HFFG\n",
      "\n",
      "[[2 2 1 0]\n",
      " [3 0 1 0]\n",
      " [0 2 1 0]\n",
      " [0 3 2 0]]\n"
     ]
    },
    {
     "data": {
      "image/png": "[encoded data removed]",
      "text/plain": [
       "<matplotlib.figure.Figure at 0x114ac7fd0>"
      ]
     },
     "metadata": {},
     "output_type": "display_data"
    }
   ],
   "source": [
    "Qmax = []\n",
    "for row in Q:\n",
    "    row = row.tolist()\n",
    "    Qmax.append(row.index(max(row)))\n",
    "\n",
    "env_4x4.render()\n",
    "print()\n",
    "\n",
    "Qmax=np.asarray(Qmax).reshape((4,4))\n",
    "print(Qmax)\n",
    "\n",
    "plt.matshow(Qmax)\n",
    "plt.show()"
   ]
  },
  {
   "cell_type": "markdown",
   "metadata": {},
   "source": [
    "> Vanuit ons oogpunt gaat de robot rechts langs het wak. "
   ]
  },
  {
   "cell_type": "markdown",
   "metadata": {},
   "source": [
    "# 2 loading the slippery environment\n",
    "We kijken nu even snel naar hoe de robot zich op glad ijs gaat begeven. Nu zal hij dus af en toe gewoon een andere kant opschuiven. Laad omgeving opnieuw in nu met `is_slippery=True`"
   ]
  },
  {
   "cell_type": "code",
   "execution_count": null,
   "metadata": {},
   "outputs": [],
   "source": [
    "#let's load the Frozen lake environment\n",
    "#slippery means that sometimes the robot will slip on the ice and move in a random direction \n",
    "env_slip = gym.make('FrozenLake-v0',map_name=\"4x4\",is_slippery=True)"
   ]
  },
  {
   "cell_type": "markdown",
   "metadata": {},
   "source": [
    "## 2.a (5 punten)\n",
    "Run hetzelfde `q_learn` algoritme, met dezelfde parameter waardes. Laat nu ook weer de gemiddelde score zien, en ook hoe de gemiddelde beloning en het aantal stappen met de tijd verandert. Vergelijk dit met de non-slippery omgeving van hiervoor, noem de meest opvallende verschillen en leg uit waarom we die zien. "
   ]
  },
  {
   "cell_type": "markdown",
   "metadata": {},
   "source": [
    "# 3 loading the 8x8 environment\n",
    "We gaat het nu wat moeilijker maken en maken het ijsmeer wat groter. Laad nu het **niet gladde** grotere ijsmeer in:\n",
    "```python\n",
    "env = gym.make('FrozenLake-v0',map_name=\"8x8\",is_slippery=False)\n",
    "```"
   ]
  },
  {
   "cell_type": "code",
   "execution_count": null,
   "metadata": {},
   "outputs": [],
   "source": [
    "#let's load the Frozen lake environment\n",
    "#slippery means that sometimes you slip on the ice and move in a random direction \n",
    "env_8x8 = gym.make('FrozenLake-v0',map_name=\"8x8\",is_slippery=False)"
   ]
  },
  {
   "cell_type": "markdown",
   "metadata": {},
   "source": [
    "Check even deze nieuwe omgeving: `env.render()` "
   ]
  },
  {
   "cell_type": "code",
   "execution_count": null,
   "metadata": {},
   "outputs": [],
   "source": [
    "# this function shows your current location and the environment\n",
    "env_8x8.render()"
   ]
  },
  {
   "cell_type": "markdown",
   "metadata": {},
   "source": [
    "## 3.a. (5 punten)\n",
    "Het nieuwe meer is 8x8 maar verder helemaal hezelfde. We kunnen dan ook weer hetzelfde `q_learn()` hier op los laten. Doe dit, met weer dezelfde parameter waardes als je eerder bij de 4x4 hebt gebruikt. Rapporteer wederom hoe goed de robot het doet in termen van verkregen beloningen en aantal stappen genomen. Zie je ook een omslag punt?"
   ]
  },
  {
   "cell_type": "markdown",
   "metadata": {},
   "source": [
    "## 3.b. wereld kennis (20 punten)\n",
    "\n",
    "In het grid van 8x8 zien we dat de robot velen trials nodig heeft om een simpele taak op te lossen. En dit is nog maar een erg simpele wereld met slechts 64 states! We gaan nu proberen of we de Q-learning robot een beetje kunnen helpen sneller te leren. Zoals we in het college gezien hebben (en zie [hier](https://arxiv.org/pdf/1802.10217.pdf)) zijn mensen heel snel in het leren van computer games omdat ze hun kennis over de wereld toepassen op de spelwereld. Laten we dat hier ook proberen en de robot wat meer kennis geven. \n",
    "\n",
    "Om te beginnen is het voor de robot nu niet heel duidelijk dat in een wak vallen een slecht idee is. De beloning die er bij hoort is nu nul. Het is voor mensen duidelijk dat in een wak vallen niet goed is voor het doel behalen. Zo kan je dus een kleine aanpassing maken.\n",
    "Implementeer ook het volgende:\n",
    "\n",
    "```python\n",
    " if d and r == 0:\n",
    "     r = -1\n",
    "```\n",
    "\n",
    "doe dit direct na de `env.step()` stap waarbij dus net `r` is bepaald. Dit zal het model helpen sneller te leren om wakken te vermijden, door daar een negatieve reward aan te geven.  Zorg dat je deze toevoeging ook makkelijk weer aan of uit kunt zetten, zodat je het algoritme met en zonder deze toevoeging kunt testen.\n",
    "\n",
    "Implementeer daarnaast ook nog de volgende twee toevoegingen in het `q_learn` model, die ook makkelijk aan of uit moeten kunnen voor de tests:\n",
    "\n",
    "1.  Leer de robot dat als je in een wak loopt, je ook in dit wak loopt als je van een andere kant op het zelfde hokje loopt. Stel je loop van boven in een wak, leer dan meteen dat je ook in datzelfde wak loopt als je er van links, rechts of van onder in loopt\n",
    "    * *Hint: Houd hierbij rekening met de boundaries, update geen states updaten die niet bestaan of niet in 1 stap bereikbaar zijn.*\n",
    "\n",
    "2. Leer snel af om tegen muren aan te lopen. Nu is deze actie nog geoorloofd en brengt je weer terug op zelfde plek, met een reward van 0. Zorg dat de robot dit niet meer doet.\n",
    "    * *Hint: Leer dit de robot niet af door hier ook een negatieve reward aan te geven, want dan worden de rewards onderling lastiger te vergelijken (gezien er dan meerdere negatieve rewards en 1 positieve reward in een episode kunnen zitten). In plaats daarvan zou je Q-value van de action zelf kunnen aanpassen of aanpassen hoe de action selection precies werkt.*\n",
    "\n",
    "Beide veranderingen kunnen op verschillende manieren worden geimplementeerd. Je kan naar de Q tables kijken om te zien of jouw implementatie gewerkt heeft. \n",
    "\n",
    "Run de verschillende implementaties van het model, met een geen, een of een combinatie van meerdere elementen van kennis. Run elk model 20 keer voor 500 episodes en vergelijk de average rewards. Beschrijf hoe elk element wel of niet bijdraagt aan beter of sneller leren. \n"
   ]
  },
  {
   "cell_type": "markdown",
   "metadata": {},
   "source": [
    "## 3.c. (10 punten)\n",
    "Verzin zelf nog een ingreep die het model beter kan laten leren, denk dan vooral na over hoe mensen die spel zouden spelen (common sense). Laat zien hoe veel beter jou model werkt (de beste implementaties zullen we bespreken in het college). "
   ]
  },
  {
   "cell_type": "markdown",
   "metadata": {},
   "source": [
    "# Q Networks\n",
    "\n",
    "We hebben nu nog gewerkt met een kleine wereld met maar maximaal 64 states. De echte wereld, en veel leuke spelletjes, hebben natuurlijk een veel grotere state space, en dan wordt het al snel erg lastig om nog een Q table te gaan bijhouden. Dit is waar Q netwerken heel handig zijn, en dan met name Deep Q Networks (DQN). Een deep neural network kan helpen de state space een stuk beter generaliseerbaar te maken, en vergelijkbare Q-values toekennen aan states die veel op elkaar lijken, wat een hele waardevolle eigenschap blijkt (zie bijv. de oorspronkelijke DQN paper over Atari games leren spelen [hier](https://arxiv.org/pdf/1312.5602v1.pdf)).\n",
    "\n",
    "In deze opdracht gaan we nu geen deep Q netwerk in elkaar zetten maar wel een simpel 1-layer Q netwerk, om te leren hoe deze werken en hoe het Q learning algoritme kan worden geïmplementeerd in een netwerk. We maken hier wel gebruik van [TensorFlow](https://www.tensorflow.org/overview/), een library waarmee je eenvoudig (deep) neural networks kan definiëren en trainen. Deze library is zeer geschikt voor DQN, en dus ook weer de frozenlake omgeving: "
   ]
  },
  {
   "cell_type": "code",
   "execution_count": null,
   "metadata": {},
   "outputs": [],
   "source": [
    "# If the ImportError bells of shame are ringing once again:\n",
    "# https://www.tensorflow.org/install/pip\n",
    "\n",
    "import tensorflow as tf"
   ]
  },
  {
   "cell_type": "markdown",
   "metadata": {},
   "source": [
    "We gaan een simpel Q netwerk opzetten waarbij er voor elke state (16) een node is in de input laag, en voor elke actie (4) een node in the output laag. Het doel is om de gewichten (weights) van het netwerk zo te trainen dat geven een state als input, de 4 outputs corresponderen met de Q-values van de 4 verschillende acties voor die state. Vervolgens kunnen gewoon een *argmax* gebruiken om de actie met met hoogste Q-value te selecteren. \n",
    "\n",
    "Er zijn 16 input nodes, waarbij elke state nu representeerd kan worden met een [one-hot encoding](https://en.wikipedia.org/wiki/One-hot), dus door alleen de input node van die state op 1 te zetten en alle andere input nodes op 0.\n",
    "\n",
    "De `Qout` laag is gedefineerd als de matrix vermenigvuldiging van inputs en weights, dus simpelweg de som van de inputs vermenigvuldig met de weights voor elke output (deze manier om een neural network te definiëren zou je bekend moeten voorkomen uit **Leren**). Er is hier dus *geen* activatiefunctie (zoals bijv. Sigmoid of ReLU), i.e. dit is een netwerk met alleen een lineaire layer.\n",
    "\n",
    "We gebruiken hier de Sum Squared Error tussen de berekende Q-values en de eigenlijke Q-values van een state, als de loss functie om het netwerk te trainen en dit is dus ook de functie die geminimaliseerd wordt tijdens het trainen."
   ]
  },
  {
   "cell_type": "code",
   "execution_count": null,
   "metadata": {},
   "outputs": [],
   "source": [
    "tf.reset_default_graph()\n",
    "states = env_4x4.observation_space.n\n",
    "actions = env_4x4.action_space.n\n",
    "\n",
    "# These lines establish the feed-forward part of the network used to choose actions\n",
    "# A placeholder (tf.placeholder) is simply a variable that we will assign data to at a later date. \n",
    "# It allows us to create our operations and build our computation graph, without needing the data. \n",
    "# In TensorFlow terminology, we then feed data into the graph through these placeholders.\n",
    "inputs1 = tf.placeholder(shape=[1,states],dtype=tf.float32)\n",
    "# Setting the weights to random value\n",
    "W = tf.Variable(tf.random_uniform([states,actions],0,0.01))\n",
    "\n",
    "Qout = tf.matmul(inputs1,W) # we determine the Q values for each action by multiplying inputs by weights\n",
    "predict = tf.argmax(Qout,1) # \"predicted\" action is action with highest Qout (just like Q-learn above)\n",
    "\n",
    "# Below we obtain the loss by taking the sum of squares difference between the target and prediction Q values.\n",
    "nextQ = tf.placeholder(shape=[1,4],dtype=tf.float32)\n",
    "loss = tf.reduce_sum(tf.square(nextQ - Qout)) # we proberen de \n",
    "trainer = tf.train.GradientDescentOptimizer(learning_rate=0.05)\n",
    "updateModel = trainer.minimize(loss)\n"
   ]
  },
  {
   "cell_type": "markdown",
   "metadata": {},
   "source": [
    "Nu wordt het tijd om het netwerk te gaan trainen. Hiervoor schrijven we de functie ` q_network `. We helpen je hier een heel stuk op weg. Loop stap voor stap de code door om te kijken of je elke stap begrijpt en vergelijk deze met de stappen van het standaard `q_learn()` algoritme dat je hierboven hebt gebruikt. "
   ]
  },
  {
   "cell_type": "code",
   "execution_count": null,
   "metadata": {},
   "outputs": [],
   "source": [
    "def q_network(env, num_episodes=250, num_rounds=99):\n",
    "    init = tf.initialize_all_variables()\n",
    "    # Set learning parameters\n",
    "    y = .97\n",
    "    e = .3\n",
    "\n",
    "    # Create lists to contain total rewards and steps per episode\n",
    "    jList = []\n",
    "    rList = []\n",
    "    aList = [] # list of actions\n",
    "    maxQnext = [] # list of Q values next state\n",
    "    \n",
    "    # for replay\n",
    "    memory =[]\n",
    "    d_memory =[]\n",
    "    \n",
    "    with tf.Session() as sess:\n",
    "        sess.run(init)\n",
    "        W_init=(sess.run([W])) # save initial weights\n",
    "        for i in range(num_episodes):\n",
    "            # Reset environment and get first new observation\n",
    "            s = env.reset()\n",
    "            rAll = 0\n",
    "            d = False\n",
    "            j = 0\n",
    "            \n",
    "            # The Q-Network, default run it for 99 rounds per episode\n",
    "            while j < num_rounds:\n",
    "                j+=1\n",
    "            \n",
    "                # Choose an action by greedily (with e chance of random action) from the Q-network\n",
    "                # output a = maxQ of current state [s] and targetQ is list of all Q values in state [s]\n",
    "                a,targetQ = sess.run([predict,Qout],feed_dict={inputs1:np.identity(states)[s:s+1]})\n",
    "           \n",
    "                # e greedy:\n",
    "                if np.random.rand(1) < e:\n",
    "                    a[0] = env.action_space.sample()\n",
    "                aList.append(a[0])\n",
    "                \n",
    "                # Get new state and reward from environment\n",
    "                s1,r,d,_ = env.step(a[0])\n",
    "                \n",
    "                if d and r == 0: # falling in a hole will hurt \n",
    "                    r = -1   \n",
    "            \n",
    "                # Obtain the Q values of the next state by feeding the new state through our network, \n",
    "                # and again assuming you will choose the action with the highest Q value\n",
    "                Q1 = sess.run(Qout,feed_dict={inputs1:np.identity(states)[s1:s1+1]})\n",
    "            \n",
    "                # Obtain maxQ' of next state and use this to update the Q value of our chosen action.\n",
    "                maxQ1 = np.max(Q1)\n",
    "                maxQnext.append(maxQ1)\n",
    "                # In list of targetQ values for s, update the Q value of chosen action\n",
    "                targetQ[0,a[0]] = r + y*maxQ1 \n",
    "                \n",
    "                # Train our network using targetQ list, we try to adjust weights in order to \n",
    "                # minimize prediction error or squared error. \n",
    "                _,W1 = sess.run([updateModel,W],feed_dict={inputs1:np.identity(states)[s:s+1],nextQ:targetQ})\n",
    "                rAll += r\n",
    "                s = s1\n",
    "                \n",
    "                if d:\n",
    "                    break\n",
    "            \n",
    "            # Reduce chance of random action as we train the model.\n",
    "            e = e*.995\n",
    "            jList.append(j)\n",
    "            rList.append(rAll)                \n",
    "                \n",
    "        Weights=(sess.run([W])) # lets save the final weigts!\n",
    "   \n",
    "    print(\"\\nPercent of succesful episodes: \" + str(sum(rList)/num_episodes) + \"%\")\n",
    "    return (rList, jList, aList, W_init, Weights)"
   ]
  },
  {
   "cell_type": "markdown",
   "metadata": {},
   "source": [
    "![](QNET.png) \n",
    "Hier zie je een schema van hoe het netwerk er uit ziet.\n",
    "\n",
    "# 4.a (5 punten)\n",
    "\n",
    "Run het model voor 1 episode, en 1 ronde. Zo kan je volgen wat er na een stap gebeurd is in het netwerk. Rapporteer de initial weights nog voor de eerste stap gezet wordt, geef ook aan welke actie het model gekozen heeft voor die stap en hoe de nieuwe weights na training er uit zien. Gegeven dat er nu voor maar 1 ronde geleerd wordt, zullen de enige weights die worden aangepast, de weights uit de starting state 0 zijn, dus vergelijk alleen weights die bij deze state horen.\n",
    "\n",
    "Geef aan hoe dit in vergelijking is met de `q_learn()`. Verwijs in je uitleg ook naar prediction errors. \n"
   ]
  },
  {
   "cell_type": "markdown",
   "metadata": {},
   "source": [
    "# 4.b (5 punten)\n",
    "\n",
    "Run nu nogmaals het netwerk maar nu met 500 episodes en 99 rounds per episode. Laat net als bij `q_learn` nu zien hoe goed het netwerk is over tijd (rewards & number of steps). Maar laat nu ook zien wat de weights/Q-values zijn voor de vier mogelijke acties in het hokje links naast de frisbee (state 14). Heeft de beste actie ook de hoogste waarde?\n",
    "\n",
    "Gegeven dat states in dit model gepresenteerd worden met een one-hot encoding, en dat het model alleen uit 1 lineaire laag bestaat, worden de Q-values in dit simpele model nog op een vrij directe manier geleerd. Wat is hier dus de relatie tussen de weight matrix en Q-table?\n"
   ]
  },
  {
   "cell_type": "markdown",
   "metadata": {},
   "source": [
    "# 4.c Experience Replay (20 punten)\n",
    "\n",
    "Over de tijd zijn de Q_networks op vele manier uitgebreid om nog beter te kunnen leren. Een ding wat we al genoemd hadden was bijvoorbeeld het toevoegen van meerdere lagen. Maar zo is er ook het idee van experience replay, iets wat gebaseerd is op hoe de hersens werken. Wat dit inhoud is dat de robot tussen leer episodes door in zijn geheugen graaft en kijkt wat hij hiervoor gedaan heeft en wat de uitkomst daar van was. Deze herinneringen worden dan weer gebruikt om van te leren (alsof elke herinnering weer een echte gebeurtenis was). Experience replay wordt veel gebruikt in reinforcement learning, de DQN Atari paper gelinked in de section *Q networks* maakt hier bijvoorbeeld ook gebruik van.\n",
    "\n",
    "Wat we hier gaan doen is experience replay toevoegen aan het Q_netwerk. Je hebt hier eigenlijk maar een ding voor nodig; een memory buffer (`memory =[]`)\n",
    "\n",
    "In deze buffer sla voor elke episode van elke run op wat er gebeurde. De staat waar in je was, welke actie je hebt ondernomen, of je een beloning kreeg, welke staat je terecht kwam en of dit het einde van de episode was):   `memory.append((s, a[0], r, s1, d))`\n",
    "\n",
    "Aan het eind van elke episode haal je dan een 30 keer een willekeurige herninnering boven en speelt deze weer uit alsof het echt gebeurde (dus zorgt voor een zelfde update in weights als normaal leren). Bij het begin van een nieuwe leer episode wordt de buffer weer leeggemaakt om ruimte te maken voor nieuwe evaringen. \n",
    "\n",
    "implementeer deze experience replay. Vergelijk de prestatie van het model met en zonder replay, door het beiden modelen op zn minst 10 keer aan te roepen en te kijken naar de verschillen in gemiddelde beloning. "
   ]
  },
  {
   "cell_type": "markdown",
   "metadata": {},
   "source": [
    "# 4.d Better memories (5 punten)\n",
    "We hebben nu naar replay gekeken waarbij je naar willekeurige herinneringen gaat kijken. Dit voor DQNs al een zeer goede invloed, maar het kan beter. Er zijn verschillende algoritmes bedacht waarbij niet naar willekeurige maar juist naar specifieke herinneringen werdt gekeken op het leren nog verder te optimaliseren. Bedenk en implementeer een vorm van optimalisatie van de replay functie, en test deze ook. Schrijf in je antwoord je motivatie voor je aanpassing (die is belangrijker dan het slagen er van). Moge de beste aanpassing winnen! "
   ]
  }
 ],
 "metadata": {
  "kernelspec": {
   "display_name": "Python 3",
   "language": "python",
   "name": "python3"
  },
  "language_info": {
   "codemirror_mode": {
    "name": "ipython",
    "version": 3
   },
   "file_extension": ".py",
   "mimetype": "text/x-python",
   "name": "python",
   "nbconvert_exporter": "python",
   "pygments_lexer": "ipython3",
   "version": "3.6.4"
  }
 },
 "nbformat": 4,
 "nbformat_minor": 2
}
